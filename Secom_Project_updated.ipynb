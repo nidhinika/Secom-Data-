{
 "cells": [
  {
   "cell_type": "markdown",
   "metadata": {
    "id": "Ck1_bHI3DFZ8"
   },
   "source": [
    "#Importing files from Python Libraries\n"
   ]
  },
  {
   "cell_type": "code",
   "execution_count": null,
   "metadata": {
    "id": "Zo24qEpBMuu0"
   },
   "outputs": [],
   "source": [
    "import numpy as np\n",
    "import pandas as pd\n",
    "import matplotlib.pyplot as plt\n",
    "import seaborn as sns\n",
    "%matplotlib inline"
   ]
  },
  {
   "cell_type": "markdown",
   "metadata": {
    "id": "z_lqSE07O1rY"
   },
   "source": [
    "# Loading the datasets "
   ]
  },
  {
   "cell_type": "code",
   "execution_count": null,
   "metadata": {
    "id": "UPTXRuC3Q6vv"
   },
   "outputs": [],
   "source": [
    "def load_dataset(file_name1,file_name2):\n",
    "  df=pd.read_table(file_name1,sep=\"\\s+\",header=None)\n",
    "  df.columns = [\"R\" + str(i) for i in range(590)]\n",
    "  df1=pd.read_table(file_name2,sep=\"\\s+\",header=None)\n",
    "  df1['Target']=df1[0]\n",
    "  df1.drop([0,1],axis=1,inplace=True)\n",
    "  return df,df1"
   ]
  },
  {
   "cell_type": "markdown",
   "metadata": {
    "id": "V1-EriW0iWml"
   },
   "source": [
    "# Preprocessing of Dataset"
   ]
  },
  {
   "cell_type": "markdown",
   "metadata": {
    "id": "KxNb3F3JKz9I"
   },
   "source": [
    "Droping the columns which have nan value more tha 50 % of the length of the columns and replacing the nan value of other columns with mean of the column"
   ]
  },
  {
   "cell_type": "code",
   "execution_count": null,
   "metadata": {
    "id": "KwIxnOMLi3nJ"
   },
   "outputs": [],
   "source": [
    "\n",
    "def remove_nan(data, threshold=0.5):\n",
    "  c = data.columns.values\n",
    "  for i in range(len(c)):\n",
    "    if data[c[i]].isnull().sum()>=round(len(data)*threshold):\n",
    "      data.drop(c[i],axis=1,inplace=True)\n",
    "  return data\n",
    "\n"
   ]
  },
  {
   "cell_type": "code",
   "execution_count": null,
   "metadata": {
    "id": "06jwISd1_4DX"
   },
   "outputs": [],
   "source": [
    "def knn_impute(data,k=3):\n",
    "    from sklearn.impute import KNNImputer\n",
    "    c= data.columns.values\n",
    "    imputer = KNNImputer(n_neighbors=k)\n",
    "    z1=imputer.fit_transform(data)\n",
    "    data=pd.DataFrame(z1,columns=c)\n",
    "    return data"
   ]
  },
  {
   "cell_type": "markdown",
   "metadata": {
    "id": "qdc0PV2CSyAz"
   },
   "source": [
    "Removing column having constant values throughout."
   ]
  },
  {
   "cell_type": "code",
   "execution_count": null,
   "metadata": {
    "id": "7QkAACT5S-bj"
   },
   "outputs": [],
   "source": [
    "def remove_constant(df):\n",
    "  c = df.columns.values\n",
    "  for i in range(len(c)):\n",
    "    if df[c[i]].std()==0 or df[c[i]].std()<=1e-5:\n",
    "      df.drop(c[i],inplace=True,axis=1)\n",
    "  return df"
   ]
  },
  {
   "cell_type": "markdown",
   "metadata": {
    "id": "9YZbIqh7Zec7"
   },
   "source": [
    "# Features Selection"
   ]
  },
  {
   "cell_type": "markdown",
   "metadata": {
    "id": "tU_mhnBPxYZJ"
   },
   "source": [
    "Selecting features using ANOVA"
   ]
  },
  {
   "cell_type": "code",
   "execution_count": null,
   "metadata": {
    "id": "9p2vh4YIV44j"
   },
   "outputs": [],
   "source": [
    " def k_best(data1,data2,seat):\n",
    "  from sklearn.feature_selection import SelectKBest\n",
    "  from sklearn.feature_selection import f_classif\n",
    "\n",
    "  cols=data1.columns.values\n",
    "  fvalue_Best = SelectKBest(f_classif, k=seat)\n",
    "  X_kbest = fvalue_Best.fit_transform(data1.values, data2.values)\n",
    "  qw=cols[fvalue_Best.get_support(indices=True)]\n",
    "  data1=data1.filter(qw)\n",
    "  return data1"
   ]
  },
  {
   "cell_type": "markdown",
   "metadata": {
    "id": "0jcjkQUMZv0t"
   },
   "source": [
    "Variance Threshold method"
   ]
  },
  {
   "cell_type": "code",
   "execution_count": null,
   "metadata": {
    "id": "VxOyRhZkf8mj"
   },
   "outputs": [],
   "source": [
    "def varianceThreshold(df,threshold=0.25):\n",
    "  from sklearn.feature_selection import VarianceThreshold\n",
    "  X=df\n",
    "  col=X.columns.values\n",
    "  V=VarianceThreshold(threshold)\n",
    "  V.fit(X)\n",
    "  f=col[(V.get_support(indices=True))]\n",
    "  df=df.filter(f)\n",
    "  return df\n"
   ]
  },
  {
   "cell_type": "markdown",
   "metadata": {
    "id": "O_srYTuyZkkI"
   },
   "source": [
    "Selecting highly correlated features to the target variable\n"
   ]
  },
  {
   "cell_type": "code",
   "execution_count": null,
   "metadata": {
    "id": "MPa7vqq6Aw7P"
   },
   "outputs": [],
   "source": [
    "def high_cor(data1,data2,val=0):\n",
    "  c=data1.columns.values\n",
    "  for i in range(len(c)):\n",
    "      r=abs(data1[c[i]].corr(data2))\n",
    "      if r<val:\n",
    "         data1.drop(c[i],axis=1,inplace=True)\n",
    "      data1[\"Target\"]=data2\n",
    "  return data1\n",
    "\n",
    "\n"
   ]
  },
  {
   "cell_type": "markdown",
   "metadata": {
    "id": "d3TeCKffNKCr"
   },
   "source": [
    "Selecting Features using machine learning model"
   ]
  },
  {
   "cell_type": "code",
   "execution_count": null,
   "metadata": {
    "id": "kqUcnRWCNnlN"
   },
   "outputs": [],
   "source": [
    "def F_LogisticRegression(data1,data2,model=\"LogisticRegression\"):\n",
    "  from sklearn.linear_model import LogisticRegression\n",
    "  from sklearn.feature_selection import SelectFromModel\n",
    "  from sklearn.ensemble import RandomForestClassifier\n",
    "  from sklearn.preprocessing import StandardScaler\n",
    "  from sklearn.svm import LinearSVC, SVC\n",
    "\n",
    "  #std = StandardScaler()\n",
    "  #data1= std.fit_transform(data1)\n",
    "\n",
    "  Logistic_clf = LogisticRegression(random_state=0, solver='lbfgs',multi_class='multinomial').fit(data1, data2)\n",
    "  clf= RandomForestClassifier(n_estimators=100, max_depth=None, random_state=101, bootstrap=True).fit(data1,data2)\n",
    "  lsvc = LinearSVC(C=0.01, penalty=\"l1\", dual=False).fit(data1, data2)\n",
    "  if model==\"LogisticRegression\":\n",
    "    m1 = SelectFromModel(Logistic_clf, prefit=True)\n",
    "  elif model==\"RandomForest\":\n",
    "    m1 = SelectFromModel(clf, prefit=True)\n",
    "  elif model==\"SVC\":\n",
    "    m1= SelectFromModel(lsvc, prefit=True)\n",
    "     \n",
    "  r=m1.transform(data1)\n",
    "  r_transpose=r.T\n",
    "  col = df.columns.values\n",
    "  features = []\n",
    "  for i in range(len(r_transpose)):\n",
    "    for n in range(len(col)):\n",
    "        if list(r_transpose[i]) == list(df[col[n]]):\n",
    "            features.append(col[n])\n",
    "  df_selected = pd.DataFrame(r, columns=features)\n",
    "  return df_selected"
   ]
  },
  {
   "cell_type": "markdown",
   "metadata": {
    "id": "NxyqOG2aF5Vk"
   },
   "source": [
    "# Classifier Model Creation"
   ]
  },
  {
   "cell_type": "markdown",
   "metadata": {
    "id": "6bzaGMzSHfnf"
   },
   "source": [
    "Modelling Classifier with KFold cross validation"
   ]
  },
  {
   "cell_type": "code",
   "execution_count": null,
   "metadata": {
    "id": "lgV8HH6tp_gg"
   },
   "outputs": [],
   "source": [
    "def Classification(data1,data2,model=\"RandomForest\"):\n",
    "  from sklearn.ensemble import RandomForestClassifier\n",
    "  from sklearn.linear_model import LogisticRegression\n",
    "  from sklearn.model_selection import train_test_split\n",
    "  from sklearn.metrics import accuracy_score, precision_score, recall_score,classification_report\n",
    "  from sklearn.model_selection import StratifiedKFold\n",
    "  from sklearn.svm import LinearSVC\n",
    "  from sklearn.preprocessing import MinMaxScaler\n",
    "  import imblearn\n",
    "  import xgboost as xgb\n",
    "  from imblearn.over_sampling import SMOTE\n",
    "  from collections import Counter\n",
    "\n",
    "  smote = SMOTE(sampling_strategy='minority',random_state=101)\n",
    "  X_train, X_test, Y_train, Y_test = train_test_split(data1.values,data2.values, test_size = 0.2, random_state = 101,stratify=data2.values)\n",
    "\n",
    "  # fit predictor and target variable\n",
    "  x_smote, y_smote = smote.fit_sample(X_train, Y_train)\n",
    "  s=MinMaxScaler()\n",
    "  X_train=s.fit_transform(x_smote)\n",
    "  X_test=s.transform(X_test)\n",
    "  Y_train=y_smote\n",
    "\n",
    "  \n",
    "  \n",
    "  k = 10\n",
    "  kf = StratifiedKFold(n_splits=k, random_state=None)\n",
    "\n",
    "  acc=[]\n",
    "  precis=[]\n",
    "  rec=[]\n",
    "  if model==\"RandomForest\":\n",
    "    c = RandomForestClassifier(n_estimators=200, max_depth=5, random_state=101,min_samples_leaf=4, bootstrap=True)\n",
    "  if model==\"LogisticRegression\":\n",
    "    c = LogisticRegression(random_state=0, solver='lbfgs',multi_class='multinomial',penalty='l2',C=1)\n",
    "  if model==\"SVC\":\n",
    "    c=LinearSVC(C=0.01, penalty=\"l1\", dual=False)\n",
    "  if model=='XGB':\n",
    "    c=xgb.XGBClassifier(learning_rate =0.1,n_estimators=200,max_depth=5,min_child_weight=1,gamma=0,subsample=0.8,colsample_bytree=0.8,\n",
    "            objective= 'binary:logistic',nthread=4,scale_pos_weight=1,seed=27)\n",
    "  \n",
    "  \n",
    "  for train_index , test_index in kf.split(X_train,Y_train):\n",
    "    X_train_cross , X_test_cross = X_train[train_index],X_train[test_index]\n",
    "    y_train_cross , y_test_cross = Y_train[train_index] , Y_train[test_index]\n",
    "     \n",
    "    c.fit(X_train_cross,y_train_cross)\n",
    "    pred_values = c.predict(X_test_cross)\n",
    "     \n",
    "    accur = accuracy_score(y_test_cross, pred_values)\n",
    "    pre = precision_score(y_test_cross, pred_values,average='weighted')\n",
    "    re = recall_score(y_test_cross, pred_values,average='weighted')\n",
    "    acc.append(accur)\n",
    "    rec.append(re)\n",
    "    precis.append(pre)\n",
    "  \n",
    "  avg_accuracy_score = sum(acc)/k\n",
    "  avg_recall_score = sum(rec)/k\n",
    "  avg_precision_score = sum(precis)/k\n",
    "  \n",
    "  print('accuracy of each fold - {}'.format(acc))\n",
    "  print('Avg accuracy : {}'.format(avg_accuracy_score))\n",
    "  print('\\n')\n",
    "  print('precision of each fold - {}'.format(precis))\n",
    "  print('Avg precision : {}'.format(avg_precision_score))\n",
    "  print('\\n')\n",
    "  print('recall of each fold - {}'.format(rec))\n",
    "  print('Avg recall : {}'.format(avg_recall_score))\n",
    "  print('\\n')\n",
    "\n",
    "  print(\"Classification Report Training: \\n\",classification_report(Y_train,c.predict(X_train)))\n",
    "  print('\\n')\n",
    "  print(\"Classification Report Test: \\n\",classification_report(Y_test,c.predict(X_test)))\n",
    "\n",
    "\n",
    "\n",
    "  "
   ]
  },
  {
   "cell_type": "markdown",
   "metadata": {
    "id": "DzozY-2ob39y"
   },
   "source": [
    "**ANN Model**"
   ]
  },
  {
   "cell_type": "code",
   "execution_count": null,
   "metadata": {
    "id": "2NiYl5RPsJfd"
   },
   "outputs": [],
   "source": [
    "#from tensorflow_addons import losses\n",
    "import tensorflow as tf\n",
    "from tensorflow import keras\n",
    "from sklearn.metrics import confusion_matrix , classification_report\n",
    "from sklearn.model_selection import train_test_split\n",
    "from sklearn.preprocessing import MinMaxScaler\n",
    "from imblearn.over_sampling import SMOTE\n",
    "from tensorflow.keras.metrics import Recall,Precision\n",
    "def ANN(data1,data2,t,epo, weights):\n",
    "    X_train, X_test, y_train, y_test = train_test_split(data1.values,data2.values, test_size = 0.2, random_state = 101,stratify=data2.values)\n",
    "    smote = SMOTE(sampling_strategy='minority')\n",
    "    x_smote, y_smote = smote.fit_sample(X_train, y_train)\n",
    "    y_train=y_smote\n",
    "    sca=MinMaxScaler()\n",
    "    X_train=sca.fit_transform(x_smote)\n",
    "    X_test=sca.transform(X_test)\n",
    "\n",
    "    #X_train, X_val, y_train, y_val = train_test_split(X_train,y_train, test_size = 0.2, random_state = 101,stratify=y_train)\n",
    "\n",
    "\n",
    "    model = keras.Sequential([\n",
    "        keras.layers.Dense(t, input_dim=t, activation='relu'),\n",
    "        keras.layers.Dense(int(t/2), activation='relu'),\n",
    "       # keras.layers.Dense(25, activation='relu'),\n",
    "        keras.layers.Dense(1, activation='sigmoid')\n",
    "    ])\n",
    "\n",
    "    model.compile(optimizer='adam', loss=tf.keras.losses.BinaryCrossentropy(from_logits=False,label_smoothing=0.2), metrics=[Recall(),Precision()])\n",
    "    \n",
    "    if weights == -1:\n",
    "        model.fit(X_train, y_train, epochs=epo,validation_data=(X_test,y_test),verbose=0)\n",
    "    else:\n",
    "        model.fit(X_train, y_train, epochs=epo, class_weight = weights,validation_data=(X_test,y_test))\n",
    "    \n",
    "    print(model.evaluate(X_test, y_test))\n",
    "    \n",
    "    y_preds = model.predict(X_test)\n",
    "    y_preds = np.round(y_preds)\n",
    "\n",
    "    y_train_pred = model.predict(X_train)\n",
    "    y_train_pred = np.round(y_train_pred)\n",
    "    print(\"Classification Report Training: \\n\", classification_report(y_train, y_train_pred))\n",
    "\n",
    "    #y_val_pred = model.predict(X_val)\n",
    "    #y_val_pred = np.round(y_val_pred)\n",
    "    #print(\"Classification Report valid: \\n\", classification_report(y_val, y_val_pred))\n",
    "    \n",
    "    print(\"Classification Report Test: \\n\", classification_report(y_test, y_preds))\n",
    "\n",
    "    ze = model.evaluate(X_test, y_test)\n",
    "    return ze[1],ze[2]"
   ]
  },
  {
   "cell_type": "markdown",
   "metadata": {
    "id": "EZBNfnZ-ND7u"
   },
   "source": [
    "\n",
    "# Deploying the Model"
   ]
  },
  {
   "cell_type": "code",
   "execution_count": null,
   "metadata": {
    "id": "gQf57szNUzux"
   },
   "outputs": [],
   "source": [
    "df,df1=load_dataset('secom.data','secom_labels.data')"
   ]
  },
  {
   "cell_type": "markdown",
   "metadata": {
    "id": "ZT8bEVGZTLv-"
   },
   "source": [
    "**Statistical Analysis**"
   ]
  },
  {
   "cell_type": "code",
   "execution_count": null,
   "metadata": {
    "colab": {
     "base_uri": "https://localhost:8080/",
     "height": 204
    },
    "id": "C0mDaPl9YTXO",
    "outputId": "82a97c2c-acdf-4e2c-ca7b-0138dc96d67a"
   },
   "outputs": [
    {
     "data": {
      "text/html": [
       "<div>\n",
       "<style scoped>\n",
       "    .dataframe tbody tr th:only-of-type {\n",
       "        vertical-align: middle;\n",
       "    }\n",
       "\n",
       "    .dataframe tbody tr th {\n",
       "        vertical-align: top;\n",
       "    }\n",
       "\n",
       "    .dataframe thead th {\n",
       "        text-align: right;\n",
       "    }\n",
       "</style>\n",
       "<table border=\"1\" class=\"dataframe\">\n",
       "  <thead>\n",
       "    <tr style=\"text-align: right;\">\n",
       "      <th></th>\n",
       "      <th>-1</th>\n",
       "      <th>1</th>\n",
       "      <th>Missing -1 (%)</th>\n",
       "      <th>Missing 1 (%)</th>\n",
       "    </tr>\n",
       "  </thead>\n",
       "  <tbody>\n",
       "    <tr>\n",
       "      <th>R0</th>\n",
       "      <td>6</td>\n",
       "      <td>0</td>\n",
       "      <td>0.410116</td>\n",
       "      <td>0.000000</td>\n",
       "    </tr>\n",
       "    <tr>\n",
       "      <th>R1</th>\n",
       "      <td>6</td>\n",
       "      <td>1</td>\n",
       "      <td>0.410116</td>\n",
       "      <td>0.961538</td>\n",
       "    </tr>\n",
       "    <tr>\n",
       "      <th>R2</th>\n",
       "      <td>14</td>\n",
       "      <td>0</td>\n",
       "      <td>0.956938</td>\n",
       "      <td>0.000000</td>\n",
       "    </tr>\n",
       "    <tr>\n",
       "      <th>R3</th>\n",
       "      <td>14</td>\n",
       "      <td>0</td>\n",
       "      <td>0.956938</td>\n",
       "      <td>0.000000</td>\n",
       "    </tr>\n",
       "    <tr>\n",
       "      <th>R4</th>\n",
       "      <td>14</td>\n",
       "      <td>0</td>\n",
       "      <td>0.956938</td>\n",
       "      <td>0.000000</td>\n",
       "    </tr>\n",
       "  </tbody>\n",
       "</table>\n",
       "</div>"
      ],
      "text/plain": [
       "    -1  1  Missing -1 (%)  Missing 1 (%)\n",
       "R0   6  0        0.410116       0.000000\n",
       "R1   6  1        0.410116       0.961538\n",
       "R2  14  0        0.956938       0.000000\n",
       "R3  14  0        0.956938       0.000000\n",
       "R4  14  0        0.956938       0.000000"
      ]
     },
     "execution_count": 176,
     "metadata": {
      "tags": []
     },
     "output_type": "execute_result"
    }
   ],
   "source": [
    "data=pd.concat([df,df1],axis=1)\n",
    "cols=data.isnull().sum()[data.isnull().sum()>0].index.values\n",
    "\n",
    "d = pd.DataFrame()\n",
    "for i in cols:\n",
    "    a=dict(data[data[i].isnull()==True]['Target'].value_counts())\n",
    "    c={}\n",
    "    c[-1]=a.get(-1,0)\n",
    "    c[1]=a.get(1,0)\n",
    "    c ['Missing -1 (%)'] = (c[-1]/(1567-104))*100\n",
    "    c ['Missing 1 (%)'] = (c[1]/104)*100\n",
    "    q=pd.DataFrame(c,index=[i])\n",
    "    d=pd.concat([d,q],axis=0)\n",
    "\n",
    "d.head()"
   ]
  },
  {
   "cell_type": "code",
   "execution_count": null,
   "metadata": {
    "colab": {
     "base_uri": "https://localhost:8080/"
    },
    "id": "GRTYZreFZCXE",
    "outputId": "5bd25fcc-b272-492b-b786-011e996ae25a"
   },
   "outputs": [
    {
     "name": "stdout",
     "output_type": "stream",
     "text": [
      "Pass class missing percentage 4.553332483751752\n",
      "\n",
      "\n",
      "Fail class missing percentage 4.315514993481095\n"
     ]
    }
   ],
   "source": [
    "print(f'Pass class missing percentage {(d[-1].sum()/(1463*590))*100}')\n",
    "print('\\n')\n",
    "print(f'Fail class missing percentage {(d[1].sum()/(104*590))*100}')"
   ]
  },
  {
   "cell_type": "markdown",
   "metadata": {
    "id": "Y31zbb2naNQI"
   },
   "source": [
    "Results above, suggest that missing data is almost same in both the classes so we can infer that it is the case Missing Completely at Random (MCAR)"
   ]
  },
  {
   "cell_type": "code",
   "execution_count": null,
   "metadata": {
    "colab": {
     "base_uri": "https://localhost:8080/",
     "height": 415
    },
    "id": "wauSDgjDTGWE",
    "outputId": "c1db20e5-053b-40ad-d908-e7623e241891"
   },
   "outputs": [
    {
     "data": {
      "image/png": "[encoded data removed]",
      "text/plain": [
       "<Figure size 1440x576 with 1 Axes>"
      ]
     },
     "metadata": {
      "needs_background": "light",
      "tags": []
     },
     "output_type": "display_data"
    }
   ],
   "source": [
    "plt.figure(figsize=(20,8))\n",
    "sns.countplot(df.isnull().sum())\n",
    "plt.savefig(\"Countplot_null.jpg\")"
   ]
  },
  {
   "cell_type": "markdown",
   "metadata": {
    "id": "Ovf4SeMPNivi"
   },
   "source": [
    "From the above countplot we can decide the threshold to drop the null values."
   ]
  },
  {
   "cell_type": "code",
   "execution_count": null,
   "metadata": {
    "id": "2uNgD10qVTAP"
   },
   "outputs": [],
   "source": [
    "df=remove_nan(df, threshold=0.03)"
   ]
  },
  {
   "cell_type": "code",
   "execution_count": null,
   "metadata": {
    "colab": {
     "base_uri": "https://localhost:8080/",
     "height": 415
    },
    "id": "wQQre0QWV7VX",
    "outputId": "3e15a109-83b5-4c33-8567-c52ab635e86c"
   },
   "outputs": [
    {
     "data": {
      "image/png": "[encoded data removed]",
      "text/plain": [
       "<Figure size 1440x576 with 1 Axes>"
      ]
     },
     "metadata": {
      "needs_background": "light",
      "tags": []
     },
     "output_type": "display_data"
    }
   ],
   "source": [
    "plt.figure(figsize=(20,8))\n",
    "sns.countplot(df.isnull().sum())\n",
    "plt.savefig('countplot_afterdrop.jpg')"
   ]
  },
  {
   "cell_type": "markdown",
   "metadata": {
    "id": "luLjRL6KUrqX"
   },
   "source": [
    "**KNN Imputer**"
   ]
  },
  {
   "cell_type": "code",
   "execution_count": null,
   "metadata": {
    "id": "SwvpOHkjUvjh"
   },
   "outputs": [],
   "source": [
    "from sklearn.impute import KNNImputer\n",
    "r=[]\n",
    "z2=df.copy()\n",
    "ls=df.columns.values\n",
    "for i in range(1,15):\n",
    "  z1=df[ls]\n",
    "  imputer = KNNImputer(n_neighbors=i)\n",
    "  z1=imputer.fit_transform(z1)\n",
    "  z1=pd.DataFrame(z1,columns=ls)\n",
    "  r.append(max(z2.var()-z1.var()))\n",
    "idx = r.index(min(r)) + 1           #Optimal Nearest Neighbor\n",
    " "
   ]
  },
  {
   "cell_type": "markdown",
   "metadata": {
    "id": "n8nNm5RmNtGi"
   },
   "source": [
    "From the above, we are finding the optimal nearest neighbour for which filling the missing data through KNN imputer results in lowest change in variance."
   ]
  },
  {
   "cell_type": "code",
   "execution_count": null,
   "metadata": {
    "colab": {
     "base_uri": "https://localhost:8080/"
    },
    "id": "mwIENuTQKP_e",
    "outputId": "a34712ff-6589-4077-ca79-573d01f27a9d"
   },
   "outputs": [
    {
     "data": {
      "text/plain": [
       "(1567, 414)"
      ]
     },
     "execution_count": 112,
     "metadata": {
      "tags": []
     },
     "output_type": "execute_result"
    }
   ],
   "source": [
    "\n",
    "df=knn_impute(df,k=idx)\n",
    "df=remove_constant(df)\n",
    "df.shape"
   ]
  },
  {
   "cell_type": "code",
   "execution_count": null,
   "metadata": {
    "colab": {
     "base_uri": "https://localhost:8080/"
    },
    "id": "8sKewSiqJQex",
    "outputId": "d8e3d1a5-869b-476f-b17d-ceab4739efe7"
   },
   "outputs": [
    {
     "data": {
      "text/plain": [
       "(1567, 224)"
      ]
     },
     "execution_count": 113,
     "metadata": {
      "tags": []
     },
     "output_type": "execute_result"
    }
   ],
   "source": [
    "import warnings\n",
    "warnings.filterwarnings('ignore')\n",
    "\n",
    "df=varianceThreshold(df,threshold=0.20)\n",
    "df.shape"
   ]
  },
  {
   "cell_type": "code",
   "execution_count": null,
   "metadata": {
    "colab": {
     "base_uri": "https://localhost:8080/",
     "height": 279
    },
    "id": "OJrSUpEDLjgE",
    "outputId": "176a057b-d508-43d2-cd03-41c911b2c29a"
   },
   "outputs": [
    {
     "data": {
      "image/png": "[encoded data removed]",
      "text/plain": [
       "<Figure size 432x288 with 1 Axes>"
      ]
     },
     "metadata": {
      "needs_background": "light",
      "tags": []
     },
     "output_type": "display_data"
    }
   ],
   "source": [
    "sns.countplot(df1['Target'])\n",
    "plt.savefig('Count target.jpg')"
   ]
  },
  {
   "cell_type": "markdown",
   "metadata": {
    "id": "aRvPchvMOMVm"
   },
   "source": [
    "The above countplot shows the unbalancing between the two classes."
   ]
  },
  {
   "cell_type": "markdown",
   "metadata": {
    "id": "_9QxKAu-pXFZ"
   },
   "source": [
    "Selecting best number of features using ANOVA test"
   ]
  },
  {
   "cell_type": "code",
   "execution_count": null,
   "metadata": {
    "id": "05WolMGZKMVO"
   },
   "outputs": [],
   "source": [
    "xr=[]\n",
    "for i in range(25,66):\n",
    "  xt=k_best(df,df1,seat=i)\n",
    "  df_label=df1.replace(-1,0)\n",
    "  rec,prec = ANN(xt,df_label,xt.shape[1],20,{0:1,1:2}) \n",
    "  xr.append([i,rec,prec])\n"
   ]
  },
  {
   "cell_type": "code",
   "execution_count": null,
   "metadata": {
    "colab": {
     "base_uri": "https://localhost:8080/"
    },
    "id": "-lC8BgXmt8tY",
    "outputId": "845b4852-b81c-4e2d-f564-66f84f6e21e3"
   },
   "outputs": [
    {
     "data": {
      "text/plain": [
       "[[25, 0.761904776096344, 0.10958904027938843],\n",
       " [26, 0.7142857313156128, 0.14018692076206207],\n",
       " [27, 0.761904776096344, 0.12903225421905518],\n",
       " [28, 0.8095238208770752, 0.10967741906642914],\n",
       " [29, 0.761904776096344, 0.11347517371177673],\n",
       " [30, 0.761904776096344, 0.14414414763450623],\n",
       " [31, 0.761904776096344, 0.1355932205915451],\n",
       " [32, 0.8095238208770752, 0.1349206417798996],\n",
       " [33, 0.7142857313156128, 0.15306122601032257],\n",
       " [34, 0.6666666865348816, 0.1428571492433548],\n",
       " [35, 0.761904776096344, 0.1355932205915451],\n",
       " [36, 0.761904776096344, 0.14035087823867798],\n",
       " [37, 0.761904776096344, 0.14814814925193787],\n",
       " [38, 0.761904776096344, 0.12800000607967377],\n",
       " [39, 0.7142857313156128, 0.1376146823167801],\n",
       " [40, 0.523809552192688, 0.1964285671710968],\n",
       " [41, 0.8095238208770752, 0.1328125],\n",
       " [42, 0.6190476417541504, 0.16049382090568542],\n",
       " [43, 0.6666666865348816, 0.16091954708099365],\n",
       " [44, 0.6666666865348816, 0.15217390656471252],\n",
       " [45, 0.761904776096344, 0.15238095819950104],\n",
       " [46, 0.6666666865348816, 0.13461539149284363],\n",
       " [47, 0.6190476417541504, 0.22807016968727112],\n",
       " [48, 0.523809552192688, 0.15068493783473969],\n",
       " [49, 0.8095238208770752, 0.15315315127372742],\n",
       " [50, 0.7142857313156128, 0.1304347813129425],\n",
       " [51, 0.761904776096344, 0.1666666716337204],\n",
       " [52, 0.4285714328289032, 0.1304347813129425],\n",
       " [53, 0.6666666865348816, 0.12962962687015533],\n",
       " [54, 0.761904776096344, 0.1538461595773697],\n",
       " [55, 0.523809552192688, 0.12790697813034058],\n",
       " [56, 0.6666666865348816, 0.1538461595773697],\n",
       " [57, 0.3333333432674408, 0.1489361673593521],\n",
       " [58, 0.4285714328289032, 0.125],\n",
       " [59, 0.6666666865348816, 0.1818181872367859],\n",
       " [60, 0.4761904776096344, 0.14705882966518402],\n",
       " [61, 0.5714285969734192, 0.19354838132858276],\n",
       " [62, 0.380952388048172, 0.1818181872367859],\n",
       " [63, 0.4761904776096344, 0.1492537260055542],\n",
       " [64, 0.380952388048172, 0.12903225421905518],\n",
       " [65, 0.4761904776096344, 0.16393442451953888]]"
      ]
     },
     "execution_count": 139,
     "metadata": {
      "tags": []
     },
     "output_type": "execute_result"
    }
   ],
   "source": [
    "xr"
   ]
  },
  {
   "cell_type": "code",
   "execution_count": null,
   "metadata": {
    "id": "URreaV0Wvxj8"
   },
   "outputs": [],
   "source": [
    "best_feat = k_best(df,df1,seat=49)"
   ]
  },
  {
   "cell_type": "markdown",
   "metadata": {
    "id": "2cC4K-jsplvR"
   },
   "source": [
    "Selecting best number of features using Select from model"
   ]
  },
  {
   "cell_type": "code",
   "execution_count": null,
   "metadata": {
    "id": "QAuu-WXNcrET"
   },
   "outputs": [],
   "source": [
    "model_feat=F_LogisticRegression(df,df1,'LogisticRegression')"
   ]
  },
  {
   "cell_type": "markdown",
   "metadata": {
    "id": "cXdne-Ujp2CA"
   },
   "source": [
    "**Model Evaluation using Machine Learning (Xgb, RF, LR, SVC)**"
   ]
  },
  {
   "cell_type": "code",
   "execution_count": null,
   "metadata": {
    "colab": {
     "base_uri": "https://localhost:8080/"
    },
    "id": "4-lFDCMfJVRp",
    "outputId": "19f9ed8d-f0f4-4639-ae9a-d996b8650d39"
   },
   "outputs": [
    {
     "name": "stdout",
     "output_type": "stream",
     "text": [
      "accuracy of each fold - [0.9401709401709402, 0.9871794871794872, 0.9871794871794872, 0.9743589743589743, 0.9444444444444444, 0.9743589743589743, 0.9829059829059829, 0.9829059829059829, 0.9658119658119658, 0.9829059829059829]\n",
      "Avg accuracy : 0.9722222222222223\n",
      "\n",
      "\n",
      "precision of each fold - [0.9422385321100919, 0.9874999999999999, 0.9874999999999999, 0.975609756097561, 0.9500000000000001, 0.975609756097561, 0.9834710743801652, 0.9834710743801652, 0.9670402109426499, 0.9834710743801652]\n",
      "Avg precision : 0.9735911478388359\n",
      "\n",
      "\n",
      "recall of each fold - [0.9401709401709402, 0.9871794871794872, 0.9871794871794872, 0.9743589743589743, 0.9444444444444444, 0.9743589743589743, 0.9829059829059829, 0.9829059829059829, 0.9658119658119658, 0.9829059829059829]\n",
      "Avg recall : 0.9722222222222223\n",
      "\n",
      "\n",
      "Classification Report Training: \n",
      "               precision    recall  f1-score   support\n",
      "\n",
      "          -1       1.00      1.00      1.00      1170\n",
      "           1       1.00      1.00      1.00      1170\n",
      "\n",
      "    accuracy                           1.00      2340\n",
      "   macro avg       1.00      1.00      1.00      2340\n",
      "weighted avg       1.00      1.00      1.00      2340\n",
      "\n",
      "\n",
      "\n",
      "Classification Report Test: \n",
      "               precision    recall  f1-score   support\n",
      "\n",
      "          -1       0.95      0.97      0.96       293\n",
      "           1       0.36      0.24      0.29        21\n",
      "\n",
      "    accuracy                           0.92       314\n",
      "   macro avg       0.65      0.60      0.62       314\n",
      "weighted avg       0.91      0.92      0.91       314\n",
      "\n"
     ]
    }
   ],
   "source": [
    "Classification(best_feat,df1,\"XGB\")"
   ]
  },
  {
   "cell_type": "markdown",
   "metadata": {
    "id": "QRD1PPgWcWmo"
   },
   "source": [
    "**Prediction through ANN**"
   ]
  },
  {
   "cell_type": "code",
   "execution_count": null,
   "metadata": {
    "id": "JhkJYU55wvyM"
   },
   "outputs": [],
   "source": [
    "df_label=df1.replace(-1,0)"
   ]
  },
  {
   "cell_type": "code",
   "execution_count": null,
   "metadata": {
    "colab": {
     "base_uri": "https://localhost:8080/"
    },
    "id": "y2GElBqePm7m",
    "outputId": "57ba1513-47d8-4069-8ad9-b8ab8ac3b361"
   },
   "outputs": [
    {
     "name": "stdout",
     "output_type": "stream",
     "text": [
      "Epoch 1/20\n",
      "74/74 [==============================] - 1s 6ms/step - loss: 0.9729 - recall_84: 0.9957 - precision_73: 0.5006 - val_loss: 0.8225 - val_recall_84: 1.0000 - val_precision_73: 0.0686\n",
      "Epoch 2/20\n",
      "74/74 [==============================] - 0s 2ms/step - loss: 0.9244 - recall_84: 0.9991 - precision_73: 0.5328 - val_loss: 0.7550 - val_recall_84: 0.8095 - val_precision_73: 0.0876\n",
      "Epoch 3/20\n",
      "74/74 [==============================] - 0s 2ms/step - loss: 0.8806 - recall_84: 0.9718 - precision_73: 0.6038 - val_loss: 0.8295 - val_recall_84: 0.8571 - val_precision_73: 0.0874\n",
      "Epoch 4/20\n",
      "74/74 [==============================] - 0s 2ms/step - loss: 0.8464 - recall_84: 0.9513 - precision_73: 0.6400 - val_loss: 0.8483 - val_recall_84: 0.8571 - val_precision_73: 0.0874\n",
      "Epoch 5/20\n",
      "74/74 [==============================] - 0s 2ms/step - loss: 0.8298 - recall_84: 0.9419 - precision_73: 0.6567 - val_loss: 0.6879 - val_recall_84: 0.7143 - val_precision_73: 0.1145\n",
      "Epoch 6/20\n",
      "74/74 [==============================] - 0s 2ms/step - loss: 0.8135 - recall_84: 0.9359 - precision_73: 0.6710 - val_loss: 0.7415 - val_recall_84: 0.7143 - val_precision_73: 0.0955\n",
      "Epoch 7/20\n",
      "74/74 [==============================] - 0s 2ms/step - loss: 0.7978 - recall_84: 0.9393 - precision_73: 0.6877 - val_loss: 0.7274 - val_recall_84: 0.7143 - val_precision_73: 0.1027\n",
      "Epoch 8/20\n",
      "74/74 [==============================] - 0s 3ms/step - loss: 0.7884 - recall_84: 0.9359 - precision_73: 0.6917 - val_loss: 0.7506 - val_recall_84: 0.8095 - val_precision_73: 0.1063\n",
      "Epoch 9/20\n",
      "74/74 [==============================] - 0s 2ms/step - loss: 0.7766 - recall_84: 0.9487 - precision_73: 0.7008 - val_loss: 0.7097 - val_recall_84: 0.7619 - val_precision_73: 0.1168\n",
      "Epoch 10/20\n",
      "74/74 [==============================] - 0s 2ms/step - loss: 0.7632 - recall_84: 0.9427 - precision_73: 0.7139 - val_loss: 0.6938 - val_recall_84: 0.7143 - val_precision_73: 0.1145\n",
      "Epoch 11/20\n",
      "74/74 [==============================] - 0s 2ms/step - loss: 0.7552 - recall_84: 0.9521 - precision_73: 0.7196 - val_loss: 0.6523 - val_recall_84: 0.7143 - val_precision_73: 0.1316\n",
      "Epoch 12/20\n",
      "74/74 [==============================] - 0s 2ms/step - loss: 0.7432 - recall_84: 0.9444 - precision_73: 0.7303 - val_loss: 0.6705 - val_recall_84: 0.7619 - val_precision_73: 0.1368\n",
      "Epoch 13/20\n",
      "74/74 [==============================] - 0s 2ms/step - loss: 0.7313 - recall_84: 0.9521 - precision_73: 0.7517 - val_loss: 0.6024 - val_recall_84: 0.6190 - val_precision_73: 0.1398\n",
      "Epoch 14/20\n",
      "74/74 [==============================] - 0s 2ms/step - loss: 0.7221 - recall_84: 0.9496 - precision_73: 0.7646 - val_loss: 0.6701 - val_recall_84: 0.7143 - val_precision_73: 0.1316\n",
      "Epoch 15/20\n",
      "74/74 [==============================] - 0s 2ms/step - loss: 0.7132 - recall_84: 0.9556 - precision_73: 0.7652 - val_loss: 0.5680 - val_recall_84: 0.5714 - val_precision_73: 0.1519\n",
      "Epoch 16/20\n",
      "74/74 [==============================] - 0s 2ms/step - loss: 0.7061 - recall_84: 0.9487 - precision_73: 0.7828 - val_loss: 0.6375 - val_recall_84: 0.6190 - val_precision_73: 0.1340\n",
      "Epoch 17/20\n",
      "74/74 [==============================] - 0s 2ms/step - loss: 0.6927 - recall_84: 0.9650 - precision_73: 0.7797 - val_loss: 0.6237 - val_recall_84: 0.6190 - val_precision_73: 0.1398\n",
      "Epoch 18/20\n",
      "74/74 [==============================] - 0s 2ms/step - loss: 0.6828 - recall_84: 0.9632 - precision_73: 0.8039 - val_loss: 0.6155 - val_recall_84: 0.6667 - val_precision_73: 0.1556\n",
      "Epoch 19/20\n",
      "74/74 [==============================] - 0s 2ms/step - loss: 0.6763 - recall_84: 0.9641 - precision_73: 0.8074 - val_loss: 0.6341 - val_recall_84: 0.6667 - val_precision_73: 0.1522\n",
      "Epoch 20/20\n",
      "74/74 [==============================] - 0s 2ms/step - loss: 0.6670 - recall_84: 0.9701 - precision_73: 0.8177 - val_loss: 0.6338 - val_recall_84: 0.6667 - val_precision_73: 0.1429\n",
      "10/10 [==============================] - 0s 2ms/step - loss: 0.6338 - recall_84: 0.6667 - precision_73: 0.1429\n",
      "[0.6338373422622681, 0.6666666865348816, 0.1428571492433548]\n",
      "Classification Report Training: \n",
      "               precision    recall  f1-score   support\n",
      "\n",
      "           0       0.99      0.76      0.86      1170\n",
      "           1       0.81      0.99      0.89      1170\n",
      "\n",
      "    accuracy                           0.88      2340\n",
      "   macro avg       0.90      0.88      0.88      2340\n",
      "weighted avg       0.90      0.88      0.88      2340\n",
      "\n",
      "Classification Report Test: \n",
      "               precision    recall  f1-score   support\n",
      "\n",
      "           0       0.97      0.71      0.82       293\n",
      "           1       0.14      0.67      0.24        21\n",
      "\n",
      "    accuracy                           0.71       314\n",
      "   macro avg       0.56      0.69      0.53       314\n",
      "weighted avg       0.91      0.71      0.78       314\n",
      "\n",
      "10/10 [==============================] - 0s 2ms/step - loss: 0.6338 - recall_84: 0.6667 - precision_73: 0.1429\n"
     ]
    },
    {
     "data": {
      "text/plain": [
       "(0.6666666865348816, 0.1428571492433548)"
      ]
     },
     "execution_count": 144,
     "metadata": {
      "tags": []
     },
     "output_type": "execute_result"
    }
   ],
   "source": [
    "ANN(best_feat,df_label,best_feat.shape[1],20,{0:1,1:2})  #{0:1,1:2}"
   ]
  },
  {
   "cell_type": "code",
   "execution_count": null,
   "metadata": {
    "id": "hc7uTJ-n-H-l"
   },
   "outputs": [],
   "source": []
  }
 ],
 "metadata": {
  "colab": {
   "collapsed_sections": [],
   "name": "Secom Project.ipynb",
   "provenance": []
  },
  "kernelspec": {
   "display_name": "Python 3",
   "language": "python",
   "name": "python3"
  },
  "language_info": {
   "codemirror_mode": {
    "name": "ipython",
    "version": 3
   },
   "file_extension": ".py",
   "mimetype": "text/x-python",
   "name": "python",
   "nbconvert_exporter": "python",
   "pygments_lexer": "ipython3",
   "version": "3.7.6"
  }
 },
 "nbformat": 4,
 "nbformat_minor": 1
}
